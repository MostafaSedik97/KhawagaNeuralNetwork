{
  "nbformat": 4,
  "nbformat_minor": 0,
  "metadata": {
    "colab": {
      "name": "Test KhawagaNeuralNetwork.ipynb",
      "provenance": [],
      "collapsed_sections": [],
      "toc_visible": true
    },
    "kernelspec": {
      "name": "python3",
      "display_name": "Python 3"
    }
  },
  "cells": [
    {
      "cell_type": "code",
      "metadata": {
        "colab": {
          "base_uri": "https://localhost:8080/"
        },
        "id": "-IBXUzP1FkXk",
        "outputId": "3c22901a-1271-4cd6-b37b-3622a97635c7"
      },
      "source": [
        "!pip install KhawagaNeuralNetwork==0.5"
      ],
      "execution_count": 1,
      "outputs": [
        {
          "output_type": "stream",
          "text": [
            "Requirement already satisfied: KhawagaNeuralNetwork==0.5 in /usr/local/lib/python3.6/dist-packages (0.5)\n",
            "Requirement already satisfied: pandas in /usr/local/lib/python3.6/dist-packages (from KhawagaNeuralNetwork==0.5) (1.1.5)\n",
            "Requirement already satisfied: matplotlib in /usr/local/lib/python3.6/dist-packages (from KhawagaNeuralNetwork==0.5) (3.2.2)\n",
            "Requirement already satisfied: numpy in /usr/local/lib/python3.6/dist-packages (from KhawagaNeuralNetwork==0.5) (1.19.5)\n",
            "Requirement already satisfied: python-dateutil>=2.7.3 in /usr/local/lib/python3.6/dist-packages (from pandas->KhawagaNeuralNetwork==0.5) (2.8.1)\n",
            "Requirement already satisfied: pytz>=2017.2 in /usr/local/lib/python3.6/dist-packages (from pandas->KhawagaNeuralNetwork==0.5) (2018.9)\n",
            "Requirement already satisfied: pyparsing!=2.0.4,!=2.1.2,!=2.1.6,>=2.0.1 in /usr/local/lib/python3.6/dist-packages (from matplotlib->KhawagaNeuralNetwork==0.5) (2.4.7)\n",
            "Requirement already satisfied: kiwisolver>=1.0.1 in /usr/local/lib/python3.6/dist-packages (from matplotlib->KhawagaNeuralNetwork==0.5) (1.3.1)\n",
            "Requirement already satisfied: cycler>=0.10 in /usr/local/lib/python3.6/dist-packages (from matplotlib->KhawagaNeuralNetwork==0.5) (0.10.0)\n",
            "Requirement already satisfied: six>=1.5 in /usr/local/lib/python3.6/dist-packages (from python-dateutil>=2.7.3->pandas->KhawagaNeuralNetwork==0.5) (1.15.0)\n"
          ],
          "name": "stdout"
        }
      ]
    },
    {
      "cell_type": "code",
      "metadata": {
        "colab": {
          "base_uri": "https://localhost:8080/"
        },
        "id": "i_PmiiFbJYYb",
        "outputId": "41ab388b-3c53-4d7e-b92d-f158c1f3f3dd"
      },
      "source": [
        "from google.colab import drive\r\n",
        "drive.mount('/content/gdrive')\r\n",
        "!ln -s /content/gdrive/My\\ Drive/ /mydrive\r\n",
        "\r\n",
        "%cd /mydrive/\r\n",
        "!unzip -q /mydrive/Copy\\ of\\ TrainSample.zip -d data"
      ],
      "execution_count": 2,
      "outputs": [
        {
          "output_type": "stream",
          "text": [
            "Drive already mounted at /content/gdrive; to attempt to forcibly remount, call drive.mount(\"/content/gdrive\", force_remount=True).\n",
            "ln: failed to create symbolic link '/mydrive/My Drive': File exists\n",
            "/content/gdrive/My Drive\n",
            "replace data/TrainSample/mnist_0_1.jpg? [y]es, [n]o, [A]ll, [N]one, [r]ename: N\n"
          ],
          "name": "stdout"
        }
      ]
    },
    {
      "cell_type": "code",
      "metadata": {
        "id": "I34VW0zeFvtM"
      },
      "source": [
        "from KhawagaNeuralNetwork import DeepNeuralNetwork\r\n",
        "from KhawagaNeuralNetwork import Evaluation_Module\r\n",
        "from KhawagaNeuralNetwork import FC\r\n",
        "from KhawagaNeuralNetwork import Layer\r\n",
        "from KhawagaNeuralNetwork import optimizer\r\n",
        "from KhawagaNeuralNetwork import SoftmaxLayer \r\n",
        "from KhawagaNeuralNetwork.data_module import *\r\n",
        "from KhawagaNeuralNetwork.activations import *\r\n",
        "\r\n",
        "np.fetaure_matrix, np.labels=load_images_from_folder('/mydrive/data/TrainSample/',10)\r\n",
        "np.normalized_features=[]\r\n",
        "np.normalized_features=normalization(np.fetaure_matrix)\r\n",
        "np.traininglabels,np.testlabels,np.trainingfeatures,np.testfeatures=split(np.normalized_features,np.labels)\r\n",
        "\r\n",
        "\r\n",
        "'''pd.DataFrame(np.fetaure_matrix).to_csv(\"features4.csv\")\r\n",
        "pd.DataFrame(np.labels).to_csv(\"labels.csv\")\r\n",
        "pd.DataFrame(np.normalized_features).to_csv(\"normalized_features.csv\")\r\n",
        "pd.DataFrame(np.trainingfeatures).to_csv(\"trainingfeatures.csv\")\r\n",
        "pd.DataFrame(np.testfeatures).to_csv(\"testfeatures.csv\")\r\n",
        "pd.DataFrame(np.traininglabels).to_csv(\"traininglabels.csv\")\r\n",
        "pd.DataFrame(np.testlabels).to_csv(\"testlabels.csv\")'''\r\n",
        "\r\n",
        "x_train = np.trainingfeatures\r\n",
        "y_train = np.traininglabels\r\n",
        "x_val = np.testfeatures\r\n",
        "y_val = np.testlabels\r\n",
        "\r\n",
        "\r\n"
      ],
      "execution_count": 3,
      "outputs": []
    },
    {
      "cell_type": "code",
      "metadata": {
        "colab": {
          "base_uri": "https://localhost:8080/",
          "height": 189
        },
        "id": "rLQUTcYpUS9O",
        "outputId": "18b1679b-e23c-4e4f-d9dd-fb67d0102c97"
      },
      "source": [
        "\r\n"
      ],
      "execution_count": 5,
      "outputs": [
        {
          "output_type": "error",
          "ename": "NameError",
          "evalue": "ignored",
          "traceback": [
            "\u001b[0;31m---------------------------------------------------------------------------\u001b[0m",
            "\u001b[0;31mNameError\u001b[0m                                 Traceback (most recent call last)",
            "\u001b[0;32m<ipython-input-5-a0808431a8b3>\u001b[0m in \u001b[0;36m<module>\u001b[0;34m()\u001b[0m\n\u001b[1;32m      1\u001b[0m \u001b[0;32mimport\u001b[0m \u001b[0mlogging\u001b[0m\u001b[0;34m\u001b[0m\u001b[0;34m\u001b[0m\u001b[0m\n\u001b[0;32m----> 2\u001b[0;31m \u001b[0mtraitlets\u001b[0m\u001b[0;34m.\u001b[0m\u001b[0mconfig\u001b[0m\u001b[0;34m.\u001b[0m\u001b[0mapplication\u001b[0m\u001b[0;34m.\u001b[0m\u001b[0m_log_default\u001b[0m\u001b[0;34m\u001b[0m\u001b[0;34m\u001b[0m\u001b[0m\n\u001b[0m",
            "\u001b[0;31mNameError\u001b[0m: name 'traitlets' is not defined"
          ]
        }
      ]
    },
    {
      "cell_type": "code",
      "metadata": {
        "id": "Us0aMhMeQ0-n"
      },
      "source": [
        "import logging\r\n",
        "logging.basicConfig(filename=\"log_file_test.log\",\r\n",
        "                            filemode='w',\r\n",
        "                            format='%(asctime)s,%(msecs)d %(name)s %(levelname)s %(message)s',\r\n",
        "                            datefmt='%H:%M:%S',\r\n",
        "                            level=logging.DEBUG)\r\n",
        "dnn = DeepNeuralNetwork(epochs=10,l_rate=0.001,optimizer_name=\"adaDelta\",raw=0.99,epsilon=10^-8)\r\n",
        "dnn.add(size=[784,128],activation=relu)\r\n",
        "dnn.add(size=[128,64],activation=relu)\r\n",
        "dnn.addout(size=[64, 10],activation=softmax)\r\n"
      ],
      "execution_count": 11,
      "outputs": []
    },
    {
      "cell_type": "code",
      "metadata": {
        "colab": {
          "base_uri": "https://localhost:8080/"
        },
        "id": "itL19MDTU_0N",
        "outputId": "88a68c72-5a77-44b4-d038-88eb06085b49"
      },
      "source": [
        "predict = dnn.train(x_train, y_train, x_val, y_val)\r\n",
        "!cat log_file_test.log\r\n",
        "eval = Evaluation_Module(y_val, predict)\r\n",
        "print(eval.confusion_matrix())\r\n",
        "print(eval.percision())\r\n",
        "print(eval.recall())\r\n",
        "print(eval.f1_score())\r\n",
        "print(eval.accuracy())"
      ],
      "execution_count": 12,
      "outputs": [
        {
          "output_type": "stream",
          "text": [
            "02:10:13,193 root INFO Epoch: 1, Time Spent: 5.29s, Accuracy: 62.54%, Loss: 2.8674\n",
            "02:10:13,212 numexpr.utils INFO NumExpr defaulting to 2 threads.\n",
            "02:14:24,828 root INFO Epoch: 1, Time Spent: 5.22s, Accuracy: 61.17%, Loss: 3.2419\n",
            "02:15:29,505 root INFO Epoch: 1, Time Spent: 5.27s, Accuracy: 53.60%, Loss: 2.8941\n",
            "02:15:45,967 root INFO Epoch: 1, Time Spent: 5.34s, Accuracy: 26.73%, Loss: 3.8921\n",
            "02:16:33,975 root INFO Epoch: 1, Time Spent: 5.27s, Accuracy: 56.41%, Loss: 2.7044\n",
            "02:16:47,479 root INFO Epoch: 1, Time Spent: 5.34s, Accuracy: 78.46%, Loss: 1.8598\n",
            "02:17:11,568 root INFO Epoch: 1, Time Spent: 5.31s, Accuracy: 56.70%, Loss: 2.9561\n",
            "02:17:16,825 root INFO Epoch: 2, Time Spent: 10.57s, Accuracy: 83.79%, Loss: 1.5420\n",
            "02:17:22,142 root INFO Epoch: 3, Time Spent: 15.89s, Accuracy: 88.62%, Loss: 0.8191\n",
            "02:17:27,342 root INFO Epoch: 4, Time Spent: 21.09s, Accuracy: 90.63%, Loss: 0.6307\n",
            "02:17:32,567 root INFO Epoch: 5, Time Spent: 26.31s, Accuracy: 92.29%, Loss: 0.5351\n",
            "02:17:37,810 root INFO Epoch: 6, Time Spent: 31.56s, Accuracy: 93.16%, Loss: 0.4750\n",
            "02:17:43,56 root INFO Epoch: 7, Time Spent: 36.80s, Accuracy: 93.66%, Loss: 0.4327\n",
            "02:17:48,310 root INFO Epoch: 8, Time Spent: 42.06s, Accuracy: 94.02%, Loss: 0.4010\n",
            "02:17:53,567 root INFO Epoch: 9, Time Spent: 47.31s, Accuracy: 94.24%, Loss: 0.3762\n",
            "02:17:58,847 root INFO Epoch: 10, Time Spent: 52.59s, Accuracy: 94.60%, Loss: 0.3561\n",
            "         true: 0  true: 1  true: 2  true: 3  ...  true: 6  true: 7  true: 8  true: 9\n",
            "pred: 0    333.0      0.0     11.0      7.0  ...      0.0      0.0      0.0      0.0\n",
            "pred: 1      0.0    317.0      4.0     12.0  ...      0.0      0.0      0.0      0.0\n",
            "pred: 2      4.0      4.0    344.0     15.0  ...      0.0      0.0      0.0      0.0\n",
            "pred: 3      2.0      5.0     11.0    319.0  ...      0.0      0.0      0.0      0.0\n",
            "pred: 4      0.0      0.0      0.0      0.0  ...      0.0      0.0      0.0      0.0\n",
            "pred: 5      0.0      0.0      0.0      0.0  ...      0.0      0.0      0.0      0.0\n",
            "pred: 6      0.0      0.0      0.0      0.0  ...      0.0      0.0      0.0      0.0\n",
            "pred: 7      0.0      0.0      0.0      0.0  ...      0.0      0.0      0.0      0.0\n",
            "pred: 8      0.0      0.0      0.0      0.0  ...      0.0      0.0      0.0      0.0\n",
            "pred: 9      0.0      0.0      0.0      0.0  ...      0.0      0.0      0.0      0.0\n",
            "\n",
            "[10 rows x 10 columns]\n",
            "10\n",
            "                  0         1        2         3    4    5    6    7    8    9\n",
            "percision  0.948718  0.951952  0.93733  0.946588  0.0  0.0  0.0  0.0  0.0  0.0\n",
            "               0         1        2         3    4    5    6    7    8    9\n",
            "recall  0.982301  0.972393  0.92973  0.903683  0.0  0.0  0.0  0.0  0.0  0.0\n",
            "10\n",
            "                 0         1         2         3    4    5    6    7    8    9\n",
            "f1_score  0.965217  0.962064  0.933514  0.924638  0.0  0.0  0.0  0.0  0.0  0.0\n",
            "0.9459654178674352\n"
          ],
          "name": "stdout"
        },
        {
          "output_type": "stream",
          "text": [
            "/usr/local/lib/python3.6/dist-packages/KhawagaNeuralNetwork/evaluation_module.py:38: RuntimeWarning: invalid value encountered in double_scalars\n",
            "  out = (self.matrix.loc[self.Category[i], self.Category[i]])/(self.matrix.loc[self.Category[i],:].to_numpy().sum(dtype=np.float))\n",
            "/usr/local/lib/python3.6/dist-packages/KhawagaNeuralNetwork/evaluation_module.py:47: RuntimeWarning: invalid value encountered in double_scalars\n",
            "  out = (self.matrix.loc[self.Category[i], self.Category[i]])/(self.matrix.loc[:,self.Category[i]].to_numpy().sum(dtype=np.float))\n",
            "/usr/local/lib/python3.6/dist-packages/KhawagaNeuralNetwork/evaluation_module.py:47: RuntimeWarning: invalid value encountered in double_scalars\n",
            "  out = (self.matrix.loc[self.Category[i], self.Category[i]])/(self.matrix.loc[:,self.Category[i]].to_numpy().sum(dtype=np.float))\n",
            "/usr/local/lib/python3.6/dist-packages/KhawagaNeuralNetwork/evaluation_module.py:38: RuntimeWarning: invalid value encountered in double_scalars\n",
            "  out = (self.matrix.loc[self.Category[i], self.Category[i]])/(self.matrix.loc[self.Category[i],:].to_numpy().sum(dtype=np.float))\n",
            "/usr/local/lib/python3.6/dist-packages/KhawagaNeuralNetwork/evaluation_module.py:58: RuntimeWarning: invalid value encountered in double_scalars\n",
            "  out = 2*(recall.loc[\"recall\",self.Category[i]] * percision.loc[\"percision\",self.Category[i]])/(recall.loc[\"recall\",self.Category[i]] + percision.loc[\"percision\",self.Category[i]])\n"
          ],
          "name": "stderr"
        }
      ]
    }
  ]
}